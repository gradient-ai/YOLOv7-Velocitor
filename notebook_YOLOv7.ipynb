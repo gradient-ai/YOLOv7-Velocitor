{
 "cells": [
  {
   "cell_type": "markdown",
   "source": [
    "# Before you start:\n",
    "This notebook shows how to execute YOLOv7 to detect loading bay door positions in video. The data for this project\n",
    "was annotated using RoboFlow. \n",
    "\n",
    "The data can be accessed here: curl -L \"https://app.roboflow.com/ds/vuDHqfzW8O?key=1R86pjvC9o\" > roboflow.zip; unzip roboflow.zip; rm roboflow.zip\n",
    "\n",
    "\n",
    "Miscellaneous notes:\n",
    "- Go to \"Train\" to train a model from scratch, \"Test\" to assess the quality of a trained model, and \"Detect\" to run detection on a sample. \n",
    "- To access the training data & pretrained model for this repo, run the following cell. You will then need to navigate to the \"Helpers\" section, and follow the instructions there to set up your code for YOLOv7. "
   ],
   "metadata": {}
  },
  {
   "cell_type": "code",
   "execution_count": null,
   "source": [
    "!curl -L \"https://app.roboflow.com/ds/3RUpGzlTpl?key=o1uRVtIeRj\" > roboflow.zip; unzip roboflow.zip; rm roboflow.zip\n",
    "!wget https://github.com/WongKinYiu/yolov7/releases/download/v0.1/yolov7_training.pt"
   ],
   "outputs": [],
   "metadata": {
    "execution": {
     "iopub.execute_input": "2022-07-26T00:43:59.314893Z",
     "iopub.status.busy": "2022-07-26T00:43:59.314633Z",
     "iopub.status.idle": "2022-07-26T00:44:03.893149Z",
     "shell.execute_reply": "2022-07-26T00:44:03.892621Z",
     "shell.execute_reply.started": "2022-07-26T00:43:59.314873Z"
    }
   }
  },
  {
   "cell_type": "code",
   "execution_count": null,
   "source": [
    "!pip install -r requirements.txt\n",
    "!pip install setuptools==59.5.0"
   ],
   "outputs": [],
   "metadata": {
    "execution": {
     "iopub.execute_input": "2022-07-27T23:08:39.656567Z",
     "iopub.status.busy": "2022-07-27T23:08:39.655641Z",
     "iopub.status.idle": "2022-07-27T23:15:25.599543Z",
     "shell.execute_reply": "2022-07-27T23:15:25.597490Z",
     "shell.execute_reply.started": "2022-07-27T23:08:39.656386Z"
    }
   }
  },
  {
   "cell_type": "markdown",
   "source": [
    "## Helpers\n",
    "\n",
    "To set up your RoboFlow annotated data for YOLO, we've provided some helper functions to quickly clean up the filenames. \n",
    "Simply run all the cells below"
   ],
   "metadata": {}
  },
  {
   "cell_type": "code",
   "execution_count": 3,
   "source": [
    "! mkdir v-test\n",
    "! mv train/ v-test/\n",
    "! mkdir v-test/test/ \n",
    "! mkdir v-test/test/labels\n",
    "! mkdir v-test/test/images\n",
    "! mkdir v-test/valid/ \n",
    "! mkdir v-test/valid/images\n",
    "! mkdir v-test/valid/labels"
   ],
   "outputs": [],
   "metadata": {
    "execution": {
     "iopub.execute_input": "2022-07-22T18:30:06.763053Z",
     "iopub.status.busy": "2022-07-22T18:30:06.762346Z",
     "iopub.status.idle": "2022-07-22T18:30:09.497100Z",
     "shell.execute_reply": "2022-07-22T18:30:09.494552Z",
     "shell.execute_reply.started": "2022-07-22T18:30:06.762990Z"
    }
   }
  },
  {
   "cell_type": "code",
   "execution_count": null,
   "source": [
    "import os \n",
    "\n",
    "# remove roboflow extra junk\n",
    "\n",
    "count = 0\n",
    "for i in sorted(os.listdir('v-test/train/labels')):\n",
    "    if count >=3:\n",
    "        count = 0\n",
    "    count += 1\n",
    "    if i[0] == '.':\n",
    "        continue\n",
    "    j = i.split('_')\n",
    "    dict1 = {1:'a', 2:'b', 3:'c'}\n",
    "    source = 'v-test/train/labels/'+i\n",
    "    dest = 'v-test/train/labels/'+j[0]+dict1[count]+'.txt'\n",
    "    os.rename(source, dest)\n",
    "    \n",
    "count = 0\n",
    "for i in sorted(os.listdir('v-test/train/images')):\n",
    "    if count >=3:\n",
    "        count = 0\n",
    "    count += 1\n",
    "    if i[0] == '.':\n",
    "        continue\n",
    "    j = i.split('_')\n",
    "    dict1 = {1:'a', 2:'b', 3:'c'}\n",
    "    source = 'v-test/train/images/'+i\n",
    "    dest = 'v-test/train/images/'+j[0]+dict1[count]+'.jpg'\n",
    "    os.rename(source, dest)"
   ],
   "outputs": [],
   "metadata": {}
  },
  {
   "cell_type": "code",
   "execution_count": null,
   "source": [
    "# Set up validation set\n",
    "\n",
    "import os\n",
    "import shutil\n",
    " \n",
    "source = 'v-test/train/images/'\n",
    "destination = 'v-test/valid/images/'\n",
    " \n",
    "allfiles = os.listdir(source)\n",
    " \n",
    "for f in allfiles:\n",
    "# print(type(f))\n",
    "# print(f.split\n",
    "    if f.split('c')[0] == 'garage' and int(f[7:-5]) >=420:\n",
    "        # print(f[7:-5])\n",
    "        # print(f)\n",
    "        # print(source + f)\n",
    "        # print(destination +f)\n",
    "        # break\n",
    "        shutil.move(source + f, destination + f)\n",
    "    if f.split('ee')[0] == 'garag' and int(f[7:-5]) <= 150:\n",
    "        # print(int(f[7:-5]))\n",
    "        # print(f)\n",
    "        # print(source + f)\n",
    "        # print(destination +f)\n",
    "        # break\n",
    "        shutil.move(source + f, destination + f)\n",
    "    if f.split('-')[0]=='garagesnap' and int(f[11:16]) < 150:\n",
    "        # print(int(f[11:16]))\n",
    "        # print(f)\n",
    "        # print(source + f)\n",
    "        # print(destination +f)\n",
    "        # break\n",
    "        shutil.move(source + f, destination + f)\n",
    "\n",
    "    \n",
    "source = 'v-test/train/labels/'\n",
    "destination = 'v-test/valid/labels/'\n",
    " \n",
    "allfiles = os.listdir(source)\n",
    "for f in allfiles:\n",
    "    # print(type(f))\n",
    "    # print(f.split\n",
    "    if f.split('c')[0] == 'garage' and int(f[7:-5]) >=463:\n",
    "        # print(f[7:-5])\n",
    "        # print(f)\n",
    "        # print(source + f)\n",
    "        # print(destination +f)\n",
    "        # break\n",
    "        shutil.move(source + f, destination + f)\n",
    "    if f.split('ee')[0] == 'garag' and int(f[7:-5]) <= 150:\n",
    "        # print(int(f[7:-5]))\n",
    "        # print(f)\n",
    "        # print(source + f)\n",
    "        # print(destination +f)\n",
    "        # break\n",
    "        shutil.move(source + f, destination + f)\n",
    "    if f.split('-')[0]=='garagesnap' and int(f[11:16]) < 150:\n",
    "        print(int(f[11:16]))\n",
    "        print(f)\n",
    "        print(source + f)\n",
    "        print(destination +f)\n",
    "        # break\n",
    "        shutil.move(source + f, destination + f)"
   ],
   "outputs": [],
   "metadata": {}
  },
  {
   "cell_type": "code",
   "execution_count": null,
   "source": [
    "import os\n",
    "import shutil\n",
    " \n",
    "source = 'v-test/train/images/'\n",
    "destination = 'v-test/test/images/'\n",
    " \n",
    "allfiles = os.listdir(source)\n",
    " \n",
    "for f in allfiles:\n",
    "    # print(type(f))\n",
    "    # print(f.split\n",
    "    if f.split('c')[0] == 'garage':\n",
    "        # print(f[7:-5])\n",
    "        # print(f)\n",
    "        # print(source + f)\n",
    "        # print(destination +f)\n",
    "        # break\n",
    "        shutil.move(source + f, destination + f)\n",
    "\n",
    "source = 'v-test/train/labels/'\n",
    "destination = 'v-test/test/labels/'\n",
    " \n",
    "allfiles = os.listdir(source)\n",
    " \n",
    "for f in allfiles:\n",
    "    # print(type(f))\n",
    "    # print(f.split\n",
    "    if f.split('c')[0] == 'garage':\n",
    "        # print(f[7:-5])\n",
    "        # print(f)\n",
    "        # print(source + f)\n",
    "        # print(destination +f)\n",
    "        # break\n",
    "        shutil.move(source + f, destination + f)"
   ],
   "outputs": [],
   "metadata": {}
  },
  {
   "cell_type": "markdown",
   "source": [
    "## Train\n",
    "\n",
    "\n",
    "This section shows how to fine tune a model for a custom dataset.\n",
    "\n",
    "### Training instructions & tips\n",
    "- If you need to change the locations of your training/validation/test images, then be sure to go to custom.yaml in the \"data\" folder, and change the path locations. \n",
    "- also in custom.yaml, you can set and label the number of labels you want to be able to detect with your model\n",
    "- If you are on a distributed machine, use the second train command in the cell below. Be sure to change \"nproc_per_node\" to accurately reflect the number of GPUs on your device. \n",
    "- use the hyp.scratch.custom.yaml file to change hyperparameters for training. "
   ],
   "metadata": {}
  },
  {
   "cell_type": "code",
   "execution_count": null,
   "source": [
    "# !python train.py --workers 8 --device 0 --batch-size 8 --data data/coco.yaml --img 1280 720 --cfg cfg/training/yolov7x.yaml --weights yolov7_training.pt --name yolov7-ballhandler --hyp data/hyp.scratch.custom.yaml --epochs 50\n",
    "\n",
    "!python -m torch.distributed.launch --nproc_per_node 2 --master_port 9527 train.py --workers 16 --device 0,1 --sync-bn --batch-size 8 --data data/coco.yaml --img 1280 720 --cfg cfg/training/yolov7.yaml --weights yolov7_training.pt --name yolov7-ballhandler --hyp data/hyp.scratch.custom.yaml --epochs 50\n"
   ],
   "outputs": [],
   "metadata": {
    "execution": {
     "iopub.execute_input": "2022-07-27T23:16:06.579020Z",
     "iopub.status.busy": "2022-07-27T23:16:06.576603Z",
     "iopub.status.idle": "2022-07-27T23:23:52.195050Z",
     "shell.execute_reply": "2022-07-27T23:23:52.192681Z",
     "shell.execute_reply.started": "2022-07-27T23:16:06.578949Z"
    }
   }
  },
  {
   "cell_type": "markdown",
   "source": [
    "## Detect\n",
    "\n",
    "Use the following cell to run detection on a submitted image. \n",
    "\n",
    "- Change image or video being detected on using --source tag\n",
    "- img size X dimension must be correct for this to run. no Y needed\n",
    "- if you want to do detection on anything other than the test set, you will need to upload the video to the platform using a standard file upload in the top left corner. "
   ],
   "metadata": {}
  },
  {
   "cell_type": "code",
   "execution_count": null,
   "source": [
    "# get test video: \n",
    "!pip install gdown\n",
    "!gdown https://drive.google.com/uc?id=1hUk6mdIXwOzcSGYMpWjJR6ngCgzVgTkB"
   ],
   "outputs": [],
   "metadata": {}
  },
  {
   "cell_type": "code",
   "execution_count": null,
   "source": [
    "!python detect.py --weights runs/train/yolov7-ballhandler/weights/best.pt --conf 0.25 --img-size 1280 --source \"test-video-final.mp4\" --name test\n"
   ],
   "outputs": [],
   "metadata": {
    "execution": {
     "iopub.execute_input": "2022-08-04T22:14:03.047176Z",
     "iopub.status.busy": "2022-08-04T22:14:03.046117Z",
     "iopub.status.idle": "2022-08-04T22:27:36.242220Z",
     "shell.execute_reply": "2022-08-04T22:27:36.241362Z",
     "shell.execute_reply.started": "2022-08-04T22:14:03.047143Z"
    }
   }
  },
  {
   "cell_type": "markdown",
   "source": [
    "## Testing"
   ],
   "metadata": {}
  },
  {
   "cell_type": "code",
   "execution_count": null,
   "source": [
    "!python test.py --data data/test.yaml --img 1280 --batch 16 --conf 0.001 --iou 0.65 --device 0 --weights runs/train/yolov7-ballhandler/weights/best.pt --name yolov7_ballhandler_testing\n"
   ],
   "outputs": [],
   "metadata": {
    "execution": {
     "iopub.execute_input": "2022-08-04T23:10:51.251252Z",
     "iopub.status.busy": "2022-08-04T23:10:51.250406Z",
     "iopub.status.idle": "2022-08-04T23:11:16.871974Z",
     "shell.execute_reply": "2022-08-04T23:11:16.871240Z",
     "shell.execute_reply.started": "2022-08-04T23:10:51.251219Z"
    }
   }
  }
 ],
 "metadata": {
  "kernelspec": {
   "display_name": "Python 3 (ipykernel)",
   "language": "python",
   "name": "python3"
  },
  "language_info": {
   "codemirror_mode": {
    "name": "ipython",
    "version": 3
   },
   "file_extension": ".py",
   "mimetype": "text/x-python",
   "name": "python",
   "nbconvert_exporter": "python",
   "pygments_lexer": "ipython3",
   "version": "3.9.13"
  }
 },
 "nbformat": 4,
 "nbformat_minor": 5
}